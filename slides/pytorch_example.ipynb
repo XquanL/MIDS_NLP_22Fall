{
 "cells": [
  {
   "cell_type": "markdown",
   "metadata": {},
   "source": [
    "## Demonstrate PyTorch"
   ]
  },
  {
   "cell_type": "code",
   "execution_count": 2,
   "metadata": {},
   "outputs": [],
   "source": [
    "import torch"
   ]
  },
  {
   "cell_type": "code",
   "execution_count": 5,
   "metadata": {},
   "outputs": [],
   "source": [
    "def times_five(number):\n",
    "    return number * 5"
   ]
  },
  {
   "cell_type": "code",
   "execution_count": 6,
   "metadata": {},
   "outputs": [
    {
     "name": "stdout",
     "output_type": "stream",
     "text": [
      "25\n"
     ]
    }
   ],
   "source": [
    "x = 5\n",
    "print(times_five(x))"
   ]
  },
  {
   "cell_type": "code",
   "execution_count": 7,
   "metadata": {},
   "outputs": [
    {
     "name": "stdout",
     "output_type": "stream",
     "text": [
      "tensor([25.])\n"
     ]
    }
   ],
   "source": [
    "# pass a Python object into this tensor constructor. Also had to make it an array there.\n",
    "#  everything that you're going to be passing around in PyTorch is going to be an array or nested array of some sort.\n",
    "x = torch.Tensor([x])\n",
    "print(times_five(x))"
   ]
  },
  {
   "cell_type": "code",
   "execution_count": 8,
   "metadata": {},
   "outputs": [
    {
     "name": "stdout",
     "output_type": "stream",
     "text": [
      "tensor([25., 25.])\n"
     ]
    }
   ],
   "source": [
    "x = torch.Tensor([x,x])\n",
    "print(times_five(x))\n"
   ]
  },
  {
   "cell_type": "markdown",
   "metadata": {},
   "source": [
    "The main thing that PyTorch does is auto computes gradients. Functions with respects to variables."
   ]
  },
  {
   "cell_type": "code",
   "execution_count": 14,
   "metadata": {},
   "outputs": [
    {
     "name": "stdout",
     "output_type": "stream",
     "text": [
      "tensor([5.])\n",
      "tensor([-0.0200], requires_grad=True) tensor([-0.1000], grad_fn=<MulBackward0>)\n"
     ]
    }
   ],
   "source": [
    "x = 5\n",
    "# Different method to actually generate a tensor for us instead of taking that value.\n",
    "x = torch.randn(1, requires_grad=True)\n",
    "#grad function. So that's why it's keeping track of what's happened to these variables underneath.\n",
    "y = times_five(x) #compute the gradient. So we're essentially going to try to compute ey/ex.\n",
    "y.backward() #backpropagation -- the derivative of Y with respect to x\n",
    "print(x.grad) #print the gradient\n",
    "print(x,y)\n"
   ]
  },
  {
   "cell_type": "code",
   "execution_count": 15,
   "metadata": {},
   "outputs": [
    {
     "name": "stdout",
     "output_type": "stream",
     "text": [
      "tensor([20.])\n",
      "tensor([0.1861], requires_grad=True) tensor([3.7228], grad_fn=<MulBackward0>)\n"
     ]
    }
   ],
   "source": [
    "x = 5\n",
    "# Different method to actually generate a tensor for us instead of taking that value.\n",
    "x = torch.randn(1, requires_grad=True)\n",
    "#grad function. So that's why it's keeping track of what's happened to these variables underneath.\n",
    "y = times_five(x) * 4#compute the gradient. So we're essentially going to try to compute ey/ex.\n",
    "y.backward() #backpropagation -- the derivative of Y with respect to x\n",
    "print(x.grad) #print the gradient\n",
    "print(x,y)"
   ]
  },
  {
   "cell_type": "code",
   "execution_count": null,
   "metadata": {},
   "outputs": [],
   "source": []
  }
 ],
 "metadata": {
  "kernelspec": {
   "display_name": "Python 3.10.6 ('base')",
   "language": "python",
   "name": "python3"
  },
  "language_info": {
   "codemirror_mode": {
    "name": "ipython",
    "version": 3
   },
   "file_extension": ".py",
   "mimetype": "text/x-python",
   "name": "python",
   "nbconvert_exporter": "python",
   "pygments_lexer": "ipython3",
   "version": "3.10.6"
  },
  "orig_nbformat": 4,
  "vscode": {
   "interpreter": {
    "hash": "3d597f4c481aa0f25dceb95d2a0067e73c0966dcbd003d741d821a7208527ecf"
   }
  }
 },
 "nbformat": 4,
 "nbformat_minor": 2
}
